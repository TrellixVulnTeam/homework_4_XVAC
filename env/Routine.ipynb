{
 "cells": [
  {
   "cell_type": "code",
   "execution_count": 1,
   "metadata": {},
   "outputs": [
    {
     "name": "stdout",
     "output_type": "stream",
     "text": [
      "Every day, I wake up and meditate for an hour. Then I pack lunch and go to work. After a few hours at work I eat lunch and take a walk. After I leave work I go to the gym with a couple friends. Then, once I get home I eat dinner and go to sleep.\n"
     ]
    }
   ],
   "source": [
    "routine = ('wake up' , 'meditate' , 'pack lunch' , 'go to work' , 'eat lunch', 'walk', 'leave work', 'go to the gym', 'eat dinner', 'sleep')\n",
    "\n",
    "print('Every day, I {} and {} for an hour. Then I {} and {}. After a few hours at work I {} and take a {}. After I {} I {} with a couple friends. Then, once I get home I {} and go to {}.'.format(routine[0], routine[1], routine[2], routine[3], routine[4], routine[5], routine[6], routine[7], routine[8], routine[9]))\n"
   ]
  },
  {
   "cell_type": "code",
   "execution_count": null,
   "metadata": {},
   "outputs": [],
   "source": []
  }
 ],
 "metadata": {
  "kernelspec": {
   "display_name": "Python 3",
   "language": "python",
   "name": "python3"
  },
  "language_info": {
   "codemirror_mode": {
    "name": "ipython",
    "version": 3
   },
   "file_extension": ".py",
   "mimetype": "text/x-python",
   "name": "python",
   "nbconvert_exporter": "python",
   "pygments_lexer": "ipython3",
   "version": "3.6.0"
  }
 },
 "nbformat": 4,
 "nbformat_minor": 2
}
