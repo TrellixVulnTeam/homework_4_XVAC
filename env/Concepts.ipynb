{
 "cells": [
  {
   "cell_type": "code",
   "execution_count": 1,
   "metadata": {},
   "outputs": [
    {
     "name": "stdout",
     "output_type": "stream",
     "text": [
      "Dictionary : A collection of key-value pairs.\n",
      "String : A series of characters.\n",
      "Boolean Expression : An expression that evaluates to True or False.\n",
      "Comment : A note in a program that the Python interpreter ignores.\n",
      "Value : The second item in a key-value pair in a dictionary.\n",
      "Loop : Iterates through a collection of items, one at a time.\n",
      "List : A collection of items in a particular order.\n",
      "Tuple : An immutable collection of items in a particular order\n",
      "Key : The first item in a key-value pair in a dictionary.\n",
      "Float : A numerical value with a decimal component.\n",
      "Git : A version control system.\n",
      "Conditionals : If, elif, else; allow you to change the behavior of your program.\n",
      "Functions : Bits of reusable code.\n",
      "Virtual Environment : An isolated environment that allows for a \"fresh start\" on one's computer\n"
     ]
    }
   ],
   "source": [
    "concepts = {'Dictionary': 'A collection of key-value pairs.' , 'String' : 'A series of characters.', 'Boolean Expression' : 'An expression that evaluates to True or False.', 'Comment' : 'A note in a program that the Python interpreter ignores.', 'Value' : 'An item associated with a key in a dictionary.', 'Loop' : 'Iterates through a collection of items, one at a time.', 'List' : 'A collection of items in a particular order.',\n",
    "'Tuple' : 'An immutable collection of items in a particular order', 'Key' : 'The first item in a key-value pair in a dictionary.', 'Value' : 'The second item in a key-value pair in a dictionary.', 'Float' : 'A numerical value with a decimal component.', 'Git' : 'A version control system.', 'Conditionals' : 'If, elif, else; allow you to change the behavior of your program.', 'Functions' : 'Bits of reusable code.', 'Virtual Environment' : 'An isolated environment that allows for a \\\"fresh start\\\" on one\\'s computer'}\n",
    "\n",
    "for key, value in concepts.items():\n",
    "    print('{} : {}'.format(key, value))\n"
   ]
  },
  {
   "cell_type": "code",
   "execution_count": null,
   "metadata": {},
   "outputs": [],
   "source": []
  }
 ],
 "metadata": {
  "kernelspec": {
   "display_name": "Python 3",
   "language": "python",
   "name": "python3"
  },
  "language_info": {
   "codemirror_mode": {
    "name": "ipython",
    "version": 3
   },
   "file_extension": ".py",
   "mimetype": "text/x-python",
   "name": "python",
   "nbconvert_exporter": "python",
   "pygments_lexer": "ipython3",
   "version": "3.6.0"
  }
 },
 "nbformat": 4,
 "nbformat_minor": 2
}
