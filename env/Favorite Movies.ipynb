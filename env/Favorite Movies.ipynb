{
 "cells": [
  {
   "cell_type": "code",
   "execution_count": 2,
   "metadata": {},
   "outputs": [
    {
     "name": "stdout",
     "output_type": "stream",
     "text": [
      "Yasha and Sam don't have any favorite movies in common!\n",
      "And these are Yasha's favorite movies that are not among Sam's favorite movies: {'Finding Forrester', 'Short Circuit 2', 'The Matrix', 'Blade Runner', 'The Royal Tenenbaums'}.\n"
     ]
    }
   ],
   "source": [
    "Yasha = {'The Matrix', 'Finding Forrester', 'Short Circuit 2', 'Blade Runner', 'The Royal Tenenbaums'}\n",
    "\n",
    "Sam = {'Gone with the Wind', 'Yankee Doodle Dandy', 'It\\'s a Wonderful Life', 'The Best Years of Our Lives', 'Shawshank Redemption'}\n",
    "\n",
    "x = (Yasha.intersection(Sam))\n",
    "x = (bool(x))\n",
    "\n",
    "if x == True:\n",
    "    print('Yasha and Sam have the following favorite movies in common: {}.'.format(Yasha.intersection(Sam)))\n",
    "else:\n",
    "    print('Yasha and Sam don\\'t have any favorite movies in common!')\n",
    "\n",
    "print('And these are Yasha\\'s favorite movies that are not among Sam\\'s favorite movies: {}.'.format(Yasha.difference(Sam)))"
   ]
  },
  {
   "cell_type": "code",
   "execution_count": null,
   "metadata": {},
   "outputs": [],
   "source": []
  }
 ],
 "metadata": {
  "kernelspec": {
   "display_name": "Python 3",
   "language": "python",
   "name": "python3"
  },
  "language_info": {
   "codemirror_mode": {
    "name": "ipython",
    "version": 3
   },
   "file_extension": ".py",
   "mimetype": "text/x-python",
   "name": "python",
   "nbconvert_exporter": "python",
   "pygments_lexer": "ipython3",
   "version": "3.6.0"
  }
 },
 "nbformat": 4,
 "nbformat_minor": 2
}
